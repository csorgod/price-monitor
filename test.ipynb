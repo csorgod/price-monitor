{
 "metadata": {
  "language_info": {
   "codemirror_mode": {
    "name": "ipython",
    "version": 3
   },
   "file_extension": ".py",
   "mimetype": "text/x-python",
   "name": "python",
   "nbconvert_exporter": "python",
   "pygments_lexer": "ipython3",
   "version": "3.7.4-final"
  },
  "orig_nbformat": 2,
  "kernelspec": {
   "name": "python3",
   "display_name": "Python 3",
   "language": "python"
  }
 },
 "nbformat": 4,
 "nbformat_minor": 2,
 "cells": [
  {
   "cell_type": "code",
   "execution_count": null,
   "metadata": {},
   "outputs": [],
   "source": [
    "import os\n",
    "\n",
    "from selenium import webdriver\n",
    "from selenium.common.exceptions import *\n",
    "from selenium.webdriver.common.by import By\n",
    "from selenium.webdriver.common.keys import Keys\n",
    "from selenium.webdriver.firefox.options import Options"
   ]
  },
  {
   "cell_type": "code",
   "execution_count": null,
   "metadata": {},
   "outputs": [],
   "source": [
    "work_dir = os.getcwd()"
   ]
  },
  {
   "cell_type": "code",
   "execution_count": null,
   "metadata": {},
   "outputs": [],
   "source": [
    "class Product:\n",
    "\n",
    "    def __init__(self, name, price, vendor):\n",
    "        self.name = name\n",
    "        self.price = price\n",
    "        self.vendor = vendor\n"
   ]
  },
  {
   "cell_type": "code",
   "execution_count": null,
   "metadata": {},
   "outputs": [],
   "source": [
    "driver_path = 'C:\\\\firefox_driver\\\\geckodriver.exe' #'\\\\'.join([work_dir, 'firefox-driver', 'geckodriver.exe'])\n",
    "search_engine = 'https://google.com.br'\n",
    "looking_for = '\"JBL Quantum One\"'\n",
    "driver_path\n",
    "\n",
    "options = Options()\n",
    "\n",
    "options.headless = True"
   ]
  },
  {
   "cell_type": "code",
   "execution_count": null,
   "metadata": {},
   "outputs": [],
   "source": [
    "browser = webdriver.Firefox(executable_path = driver_path)#, options = options)\n",
    "\n",
    "browser.implicitly_wait(10)"
   ]
  },
  {
   "cell_type": "code",
   "execution_count": null,
   "metadata": {},
   "outputs": [],
   "source": [
    "browser.get(search_engine)\n",
    "search_bar = browser.find_element_by_name('q')\n",
    "search_bar.send_keys([looking_for, Keys.RETURN])"
   ]
  },
  {
   "cell_type": "code",
   "execution_count": null,
   "metadata": {},
   "outputs": [],
   "source": [
    "#browser.find_element_by_link_text('Shopping')\n",
    "shopping = browser.find_element_by_class_name('hide-focus-ring')\n",
    "if(shopping.text == 'Shopping'):\n",
    "    shopping.click()"
   ]
  },
  {
   "cell_type": "code",
   "execution_count": null,
   "metadata": {},
   "outputs": [],
   "source": [
    "#Next button. Should be clicked to continue collecting data\n",
    "product_container = browser.find_element(By.CSS_SELECTOR, 'g-scrolling-carousel')\n",
    "next_button = product_container.find_element(By.CSS_SELECTOR, 'g-right-button[jsname=\"IHFM4\"]')"
   ]
  },
  {
   "cell_type": "code",
   "execution_count": null,
   "metadata": {},
   "outputs": [],
   "source": [
    "parent = browser.find_element_by_class_name('GhTN2e') #sh-pr__product-results\n",
    "children = parent.find_elements_by_class_name('KZmu8e') #sh-dlr__list-result\n",
    "children"
   ]
  },
  {
   "cell_type": "code",
   "execution_count": null,
   "metadata": {},
   "outputs": [],
   "source": [
    "products = []\n",
    "\n",
    "while(next_button.get_attribute('aria-hidden') == 'true'):\n",
    "    for child in children:\n",
    "        name = child.find_element(By.CLASS_NAME, 'HUOptb').text #sh-np__product-title\n",
    "        if(looking_for.strip('\"') in name):\n",
    "            url = child.find_element(By.CLASS_NAME, 'E5ocAb').text\n",
    "            price = child.find_element(By.CLASS_NAME, 'T14wmb') #price\n",
    "\n",
    "            products.append(Product(name, price, url))\n",
    "    next_button.click()\n"
   ]
  },
  {
   "cell_type": "code",
   "execution_count": null,
   "metadata": {},
   "outputs": [],
   "source": [
    "#for product in products:\n",
    "#    print(product.price)\n",
    "products[0].name"
   ]
  },
  {
   "cell_type": "code",
   "execution_count": null,
   "metadata": {},
   "outputs": [],
   "source": []
  }
 ]
}